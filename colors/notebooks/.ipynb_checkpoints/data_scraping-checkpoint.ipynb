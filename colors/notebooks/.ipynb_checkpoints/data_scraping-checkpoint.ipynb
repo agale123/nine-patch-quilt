{
 "cells": [
  {
   "cell_type": "code",
   "execution_count": 1,
   "metadata": {},
   "outputs": [],
   "source": [
    "import requests\n",
    "import pandas as pd\n",
    "from bs4 import BeautifulSoup"
   ]
  },
  {
   "cell_type": "markdown",
   "metadata": {},
   "source": [
    "# Robert Kaufman Fabrics"
   ]
  },
  {
   "cell_type": "code",
   "execution_count": 3,
   "metadata": {},
   "outputs": [],
   "source": [
    "# Robert Kaufman Fabrics\n",
    "BASE_URL = \"https://www.robertkaufman.com\"\n",
    "# FABRIC_LINE = \"kona_cotton\"\n",
    "FABRIC_LINE = \"artisan_batiks_prisma_dyes\"\n",
    "URL = BASE_URL + \"/fabrics/\" + FABRIC_LINE + \"/?page=All#products\"\n",
    "\n",
    "page = requests.get(URL)\n",
    "soup = BeautifulSoup(page.content, \"html.parser\")\n",
    "result = soup.find_all(class_=\"fabric-item-fabrics-list\")"
   ]
  },
  {
   "cell_type": "code",
   "execution_count": 86,
   "metadata": {},
   "outputs": [],
   "source": [
    "# Get all fabric items and filter out special products\n",
    "fabrics = result[0].find_all(\"li\")\n",
    "fabrics = list(\n",
    "    filter(\n",
    "        lambda x: \"specialproduct\" not in x[\"id\"] and \"colorcard\" not in x[\"id\"],\n",
    "        fabrics,\n",
    "    )\n",
    ")"
   ]
  },
  {
   "cell_type": "code",
   "execution_count": 87,
   "metadata": {},
   "outputs": [
    {
     "data": {
      "text/plain": [
       "'/assets/fabric/thumbs'"
      ]
     },
     "execution_count": 87,
     "metadata": {},
     "output_type": "execute_result"
    }
   ],
   "source": [
    "# Get the image asset path\n",
    "imagePath = \"/\".join(fabrics[-1].find(\"img\")[\"src\"].split(\"/\")[:-1])\n",
    "imagePath"
   ]
  },
  {
   "cell_type": "code",
   "execution_count": 88,
   "metadata": {},
   "outputs": [
    {
     "data": {
      "text/html": [
       "<div>\n",
       "<style scoped>\n",
       "    .dataframe tbody tr th:only-of-type {\n",
       "        vertical-align: middle;\n",
       "    }\n",
       "\n",
       "    .dataframe tbody tr th {\n",
       "        vertical-align: top;\n",
       "    }\n",
       "\n",
       "    .dataframe thead th {\n",
       "        text-align: right;\n",
       "    }\n",
       "</style>\n",
       "<table border=\"1\" class=\"dataframe\">\n",
       "  <thead>\n",
       "    <tr style=\"text-align: right;\">\n",
       "      <th></th>\n",
       "      <th>id</th>\n",
       "      <th>name</th>\n",
       "      <th>src</th>\n",
       "    </tr>\n",
       "  </thead>\n",
       "  <tbody>\n",
       "    <tr>\n",
       "      <th>0</th>\n",
       "      <td>AMD-7000-2</td>\n",
       "      <td>BLACK</td>\n",
       "      <td>AMD-7000-2.jpg</td>\n",
       "    </tr>\n",
       "    <tr>\n",
       "      <th>1</th>\n",
       "      <td>AMD-7000-3</td>\n",
       "      <td>RED</td>\n",
       "      <td>AMD-7000-3.jpg</td>\n",
       "    </tr>\n",
       "    <tr>\n",
       "      <th>2</th>\n",
       "      <td>AMD-7000-4</td>\n",
       "      <td>BLUE</td>\n",
       "      <td>AMD-7000-4.jpg</td>\n",
       "    </tr>\n",
       "    <tr>\n",
       "      <th>3</th>\n",
       "      <td>AMD-7000-8</td>\n",
       "      <td>ORANGE</td>\n",
       "      <td>AMD-7000-8.jpg</td>\n",
       "    </tr>\n",
       "    <tr>\n",
       "      <th>4</th>\n",
       "      <td>AMD-7000-9</td>\n",
       "      <td>NAVY</td>\n",
       "      <td>AMD-7000-9.jpg</td>\n",
       "    </tr>\n",
       "    <tr>\n",
       "      <th>...</th>\n",
       "      <td>...</td>\n",
       "      <td>...</td>\n",
       "      <td>...</td>\n",
       "    </tr>\n",
       "    <tr>\n",
       "      <th>151</th>\n",
       "      <td>AMD-7000-470</td>\n",
       "      <td>HYDRANGEA</td>\n",
       "      <td>AMD-7000-470.jpg</td>\n",
       "    </tr>\n",
       "    <tr>\n",
       "      <th>152</th>\n",
       "      <td>AMD-7000-471</td>\n",
       "      <td>LARKSPUR</td>\n",
       "      <td>AMD-7000-471.jpg</td>\n",
       "    </tr>\n",
       "    <tr>\n",
       "      <th>153</th>\n",
       "      <td>AMD-7000-472</td>\n",
       "      <td>DAHLIA</td>\n",
       "      <td>AMD-7000-472.jpg</td>\n",
       "    </tr>\n",
       "    <tr>\n",
       "      <th>154</th>\n",
       "      <td>AMD-7000-473</td>\n",
       "      <td>BOUQUET</td>\n",
       "      <td>AMD-7000-473.jpg</td>\n",
       "    </tr>\n",
       "    <tr>\n",
       "      <th>155</th>\n",
       "      <td>AMD-7000-474</td>\n",
       "      <td>HONEYDEW</td>\n",
       "      <td>AMD-7000-474.jpg</td>\n",
       "    </tr>\n",
       "  </tbody>\n",
       "</table>\n",
       "<p>156 rows × 3 columns</p>\n",
       "</div>"
      ],
      "text/plain": [
       "               id       name               src\n",
       "0      AMD-7000-2      BLACK    AMD-7000-2.jpg\n",
       "1      AMD-7000-3        RED    AMD-7000-3.jpg\n",
       "2      AMD-7000-4       BLUE    AMD-7000-4.jpg\n",
       "3      AMD-7000-8     ORANGE    AMD-7000-8.jpg\n",
       "4      AMD-7000-9       NAVY    AMD-7000-9.jpg\n",
       "..            ...        ...               ...\n",
       "151  AMD-7000-470  HYDRANGEA  AMD-7000-470.jpg\n",
       "152  AMD-7000-471   LARKSPUR  AMD-7000-471.jpg\n",
       "153  AMD-7000-472     DAHLIA  AMD-7000-472.jpg\n",
       "154  AMD-7000-473    BOUQUET  AMD-7000-473.jpg\n",
       "155  AMD-7000-474   HONEYDEW  AMD-7000-474.jpg\n",
       "\n",
       "[156 rows x 3 columns]"
      ]
     },
     "execution_count": 88,
     "metadata": {},
     "output_type": "execute_result"
    }
   ],
   "source": [
    "def extract_data(fabric):\n",
    "    return [\n",
    "        fabric.find(\"img\")[\"name\"],\n",
    "        \" \".join(fabric.find_all(\"div\")[-1].text.strip().split()[3:]),\n",
    "        fabric.find(\"img\")[\"src\"].split(\"/\")[-1],\n",
    "    ]\n",
    "\n",
    "\n",
    "# Extract relevant data\n",
    "df = pd.DataFrame(\n",
    "    list(map(extract_data, fabrics)), columns=[\"id\", \"name\", \"src\"]\n",
    ")\n",
    "df"
   ]
  },
  {
   "cell_type": "code",
   "execution_count": 89,
   "metadata": {},
   "outputs": [],
   "source": [
    "def download_image(src):\n",
    "    data = requests.get(BASE_URL + imagePath + \"/\" + src).content\n",
    "    with open(\"../web/images/\" + FABRIC_LINE + \"/\" + src, \"wb\") as handler:\n",
    "        handler.write(data)\n",
    "\n",
    "\n",
    "# Download all the images\n",
    "for src in df[\"src\"]:\n",
    "    download_image(src)"
   ]
  },
  {
   "cell_type": "code",
   "execution_count": 90,
   "metadata": {},
   "outputs": [],
   "source": [
    "# Write data to csv\n",
    "df.to_csv(\"../web/data/\" + FABRIC_LINE + \".csv\", index=False)"
   ]
  },
  {
   "cell_type": "markdown",
   "metadata": {},
   "source": [
    "# Art Gallery Fabrics"
   ]
  },
  {
   "cell_type": "code",
   "execution_count": 6,
   "metadata": {},
   "outputs": [],
   "source": [
    "# Art Gallery Fabrics\n",
    "BASE_URL = \"https://www.artgalleryfabrics.com\"\n",
    "FABRIC_LINE = \"art_gallery_pure_solids\"\n",
    "URL = BASE_URL + \"/cgi-bin/fabricshop/gallery.cgi?Category=271&View=All&v=1\""
   ]
  },
  {
   "cell_type": "code",
   "execution_count": 20,
   "metadata": {},
   "outputs": [],
   "source": [
    "page = requests.get(URL)\n",
    "soup = BeautifulSoup(page.content, \"html.parser\")\n",
    "fabrics = soup.find_all(class_=\"masonbox\")\n",
    "fabrics = list(\n",
    "    filter(\n",
    "        lambda x: \"CARD\" not in x.text and \"BUNDLE\" not in x.text,\n",
    "        fabrics,\n",
    "    )\n",
    ")"
   ]
  },
  {
   "cell_type": "code",
   "execution_count": 23,
   "metadata": {},
   "outputs": [
    {
     "data": {
      "text/plain": [
       "'https://www.artgalleryfabrics.com/fabricshop/categories/271/thumbs'"
      ]
     },
     "execution_count": 23,
     "metadata": {},
     "output_type": "execute_result"
    }
   ],
   "source": [
    "# Get the image asset path\n",
    "imagePath = \"/\".join(fabrics[-1].find(\"img\")[\"src\"].split(\"/\")[:-1])\n",
    "imagePath"
   ]
  },
  {
   "cell_type": "code",
   "execution_count": 24,
   "metadata": {},
   "outputs": [
    {
     "data": {
      "text/html": [
       "<div>\n",
       "<style scoped>\n",
       "    .dataframe tbody tr th:only-of-type {\n",
       "        vertical-align: middle;\n",
       "    }\n",
       "\n",
       "    .dataframe tbody tr th {\n",
       "        vertical-align: top;\n",
       "    }\n",
       "\n",
       "    .dataframe thead th {\n",
       "        text-align: right;\n",
       "    }\n",
       "</style>\n",
       "<table border=\"1\" class=\"dataframe\">\n",
       "  <thead>\n",
       "    <tr style=\"text-align: right;\">\n",
       "      <th></th>\n",
       "      <th>id</th>\n",
       "      <th>name</th>\n",
       "      <th>src</th>\n",
       "    </tr>\n",
       "  </thead>\n",
       "  <tbody>\n",
       "    <tr>\n",
       "      <th>0</th>\n",
       "      <td>PE-402</td>\n",
       "      <td>Cozumel Blue</td>\n",
       "      <td>PE-402_150px.jpg</td>\n",
       "    </tr>\n",
       "    <tr>\n",
       "      <th>1</th>\n",
       "      <td>PE-511</td>\n",
       "      <td>Dragon Fruit</td>\n",
       "      <td>PE-511-Dragon-Fruit.jpg</td>\n",
       "    </tr>\n",
       "    <tr>\n",
       "      <th>2</th>\n",
       "      <td>PE-421</td>\n",
       "      <td>Honey</td>\n",
       "      <td>PE-421_150px.jpg</td>\n",
       "    </tr>\n",
       "    <tr>\n",
       "      <th>3</th>\n",
       "      <td>PE-403</td>\n",
       "      <td>Fresh Water</td>\n",
       "      <td>PE-403_150px.jpg</td>\n",
       "    </tr>\n",
       "    <tr>\n",
       "      <th>4</th>\n",
       "      <td>PE-405</td>\n",
       "      <td>Cherry Lipgloss</td>\n",
       "      <td>PE-405_150px.jpg</td>\n",
       "    </tr>\n",
       "    <tr>\n",
       "      <th>...</th>\n",
       "      <td>...</td>\n",
       "      <td>...</td>\n",
       "      <td>...</td>\n",
       "    </tr>\n",
       "    <tr>\n",
       "      <th>157</th>\n",
       "      <td>PE557</td>\n",
       "      <td>Slate</td>\n",
       "      <td>PE557-Slate.jpg</td>\n",
       "    </tr>\n",
       "    <tr>\n",
       "      <th>158</th>\n",
       "      <td>PE558</td>\n",
       "      <td>Bougainvillea</td>\n",
       "      <td>PE558-Bougainvillea.jpg</td>\n",
       "    </tr>\n",
       "    <tr>\n",
       "      <th>159</th>\n",
       "      <td>PE559</td>\n",
       "      <td>Cosmos</td>\n",
       "      <td>PE559-Cosmos.jpg</td>\n",
       "    </tr>\n",
       "    <tr>\n",
       "      <th>160</th>\n",
       "      <td>PE560</td>\n",
       "      <td>Sedona</td>\n",
       "      <td>PE560-Sedona.jpg</td>\n",
       "    </tr>\n",
       "    <tr>\n",
       "      <th>161</th>\n",
       "      <td>PE561</td>\n",
       "      <td>Hibiscus</td>\n",
       "      <td>PE561-Hibiscus.jpg</td>\n",
       "    </tr>\n",
       "  </tbody>\n",
       "</table>\n",
       "<p>162 rows × 3 columns</p>\n",
       "</div>"
      ],
      "text/plain": [
       "         id             name                      src\n",
       "0    PE-402     Cozumel Blue         PE-402_150px.jpg\n",
       "1    PE-511     Dragon Fruit  PE-511-Dragon-Fruit.jpg\n",
       "2    PE-421            Honey         PE-421_150px.jpg\n",
       "3    PE-403      Fresh Water         PE-403_150px.jpg\n",
       "4    PE-405  Cherry Lipgloss         PE-405_150px.jpg\n",
       "..      ...              ...                      ...\n",
       "157   PE557            Slate          PE557-Slate.jpg\n",
       "158   PE558    Bougainvillea  PE558-Bougainvillea.jpg\n",
       "159   PE559           Cosmos         PE559-Cosmos.jpg\n",
       "160   PE560           Sedona         PE560-Sedona.jpg\n",
       "161   PE561         Hibiscus       PE561-Hibiscus.jpg\n",
       "\n",
       "[162 rows x 3 columns]"
      ]
     },
     "execution_count": 24,
     "metadata": {},
     "output_type": "execute_result"
    }
   ],
   "source": [
    "def extract_data(fabric):\n",
    "    return [\n",
    "        fabric.find(\"span\", attrs={\"style\": \"font-weight: bold\"}).text,\n",
    "        fabric.find(\"div\", attrs={\"style\": \"font-weight: bold\"}).text.strip(),\n",
    "        fabric.find(\"img\")[\"src\"].split(\"/\")[-1],\n",
    "    ]\n",
    "\n",
    "# Extract relevant data\n",
    "df = pd.DataFrame(\n",
    "    list(map(extract_data, fabrics)), columns=[\"id\", \"name\", \"src\"]\n",
    ")\n",
    "df"
   ]
  },
  {
   "cell_type": "code",
   "execution_count": 26,
   "metadata": {},
   "outputs": [],
   "source": [
    "def download_image(src):\n",
    "    data = requests.get(imagePath + \"/\" + src).content\n",
    "    with open(\"../web/images/\" + FABRIC_LINE + \"/\" + src, \"wb\") as handler:\n",
    "        handler.write(data)\n",
    "\n",
    "\n",
    "# Download all the images\n",
    "for src in df[\"src\"]:\n",
    "    download_image(src)"
   ]
  },
  {
   "cell_type": "code",
   "execution_count": 27,
   "metadata": {},
   "outputs": [],
   "source": [
    "# Write data to csv\n",
    "df.to_csv(\"../web/data/\" + FABRIC_LINE + \".csv\", index=False)"
   ]
  },
  {
   "cell_type": "code",
   "execution_count": null,
   "metadata": {},
   "outputs": [],
   "source": []
  }
 ],
 "metadata": {
  "kernelspec": {
   "display_name": "Python 3",
   "language": "python",
   "name": "python3"
  },
  "language_info": {
   "codemirror_mode": {
    "name": "ipython",
    "version": 3
   },
   "file_extension": ".py",
   "mimetype": "text/x-python",
   "name": "python",
   "nbconvert_exporter": "python",
   "pygments_lexer": "ipython3",
   "version": "3.8.2"
  }
 },
 "nbformat": 4,
 "nbformat_minor": 4
}
