{
 "cells": [
  {
   "cell_type": "code",
   "execution_count": 84,
   "metadata": {},
   "outputs": [],
   "source": [
    "import requests\n",
    "import pandas as pd\n",
    "from bs4 import BeautifulSoup"
   ]
  },
  {
   "cell_type": "code",
   "execution_count": 91,
   "metadata": {},
   "outputs": [],
   "source": [
    "# FABRIC_LINE = \"kona_cotton\"\n",
    "FABRIC_LINE = \"artisan_batiks_prisma_dyes\""
   ]
  },
  {
   "cell_type": "code",
   "execution_count": 85,
   "metadata": {},
   "outputs": [],
   "source": [
    "# Read fabric page from URL\n",
    "BASE_URL = \"https://www.robertkaufman.com\"\n",
    "URL = BASE_URL + \"/fabrics/\" + FABRIC_LINE + \"/?page=All#products\"\n",
    "page = requests.get(URL)\n",
    "soup = BeautifulSoup(page.content, \"html.parser\")\n",
    "result = soup.find_all(class_=\"fabric-item-fabrics-list\")"
   ]
  },
  {
   "cell_type": "code",
   "execution_count": 86,
   "metadata": {},
   "outputs": [],
   "source": [
    "# Get all fabric items and filter out special products\n",
    "fabrics = result[0].find_all(\"li\")\n",
    "fabrics = list(\n",
    "    filter(\n",
    "        lambda x: \"specialproduct\" not in x[\"id\"] and \"colorcard\" not in x[\"id\"],\n",
    "        fabrics,\n",
    "    )\n",
    ")"
   ]
  },
  {
   "cell_type": "code",
   "execution_count": 87,
   "metadata": {},
   "outputs": [
    {
     "data": {
      "text/plain": [
       "'/assets/fabric/thumbs'"
      ]
     },
     "execution_count": 87,
     "metadata": {},
     "output_type": "execute_result"
    }
   ],
   "source": [
    "# Get the image asset path\n",
    "imagePath = \"/\".join(fabrics[-1].find(\"img\")[\"src\"].split(\"/\")[:-1])\n",
    "imagePath"
   ]
  },
  {
   "cell_type": "code",
   "execution_count": 88,
   "metadata": {},
   "outputs": [
    {
     "data": {
      "text/html": [
       "<div>\n",
       "<style scoped>\n",
       "    .dataframe tbody tr th:only-of-type {\n",
       "        vertical-align: middle;\n",
       "    }\n",
       "\n",
       "    .dataframe tbody tr th {\n",
       "        vertical-align: top;\n",
       "    }\n",
       "\n",
       "    .dataframe thead th {\n",
       "        text-align: right;\n",
       "    }\n",
       "</style>\n",
       "<table border=\"1\" class=\"dataframe\">\n",
       "  <thead>\n",
       "    <tr style=\"text-align: right;\">\n",
       "      <th></th>\n",
       "      <th>id</th>\n",
       "      <th>name</th>\n",
       "      <th>src</th>\n",
       "    </tr>\n",
       "  </thead>\n",
       "  <tbody>\n",
       "    <tr>\n",
       "      <th>0</th>\n",
       "      <td>AMD-7000-2</td>\n",
       "      <td>BLACK</td>\n",
       "      <td>AMD-7000-2.jpg</td>\n",
       "    </tr>\n",
       "    <tr>\n",
       "      <th>1</th>\n",
       "      <td>AMD-7000-3</td>\n",
       "      <td>RED</td>\n",
       "      <td>AMD-7000-3.jpg</td>\n",
       "    </tr>\n",
       "    <tr>\n",
       "      <th>2</th>\n",
       "      <td>AMD-7000-4</td>\n",
       "      <td>BLUE</td>\n",
       "      <td>AMD-7000-4.jpg</td>\n",
       "    </tr>\n",
       "    <tr>\n",
       "      <th>3</th>\n",
       "      <td>AMD-7000-8</td>\n",
       "      <td>ORANGE</td>\n",
       "      <td>AMD-7000-8.jpg</td>\n",
       "    </tr>\n",
       "    <tr>\n",
       "      <th>4</th>\n",
       "      <td>AMD-7000-9</td>\n",
       "      <td>NAVY</td>\n",
       "      <td>AMD-7000-9.jpg</td>\n",
       "    </tr>\n",
       "    <tr>\n",
       "      <th>...</th>\n",
       "      <td>...</td>\n",
       "      <td>...</td>\n",
       "      <td>...</td>\n",
       "    </tr>\n",
       "    <tr>\n",
       "      <th>151</th>\n",
       "      <td>AMD-7000-470</td>\n",
       "      <td>HYDRANGEA</td>\n",
       "      <td>AMD-7000-470.jpg</td>\n",
       "    </tr>\n",
       "    <tr>\n",
       "      <th>152</th>\n",
       "      <td>AMD-7000-471</td>\n",
       "      <td>LARKSPUR</td>\n",
       "      <td>AMD-7000-471.jpg</td>\n",
       "    </tr>\n",
       "    <tr>\n",
       "      <th>153</th>\n",
       "      <td>AMD-7000-472</td>\n",
       "      <td>DAHLIA</td>\n",
       "      <td>AMD-7000-472.jpg</td>\n",
       "    </tr>\n",
       "    <tr>\n",
       "      <th>154</th>\n",
       "      <td>AMD-7000-473</td>\n",
       "      <td>BOUQUET</td>\n",
       "      <td>AMD-7000-473.jpg</td>\n",
       "    </tr>\n",
       "    <tr>\n",
       "      <th>155</th>\n",
       "      <td>AMD-7000-474</td>\n",
       "      <td>HONEYDEW</td>\n",
       "      <td>AMD-7000-474.jpg</td>\n",
       "    </tr>\n",
       "  </tbody>\n",
       "</table>\n",
       "<p>156 rows × 3 columns</p>\n",
       "</div>"
      ],
      "text/plain": [
       "               id       name               src\n",
       "0      AMD-7000-2      BLACK    AMD-7000-2.jpg\n",
       "1      AMD-7000-3        RED    AMD-7000-3.jpg\n",
       "2      AMD-7000-4       BLUE    AMD-7000-4.jpg\n",
       "3      AMD-7000-8     ORANGE    AMD-7000-8.jpg\n",
       "4      AMD-7000-9       NAVY    AMD-7000-9.jpg\n",
       "..            ...        ...               ...\n",
       "151  AMD-7000-470  HYDRANGEA  AMD-7000-470.jpg\n",
       "152  AMD-7000-471   LARKSPUR  AMD-7000-471.jpg\n",
       "153  AMD-7000-472     DAHLIA  AMD-7000-472.jpg\n",
       "154  AMD-7000-473    BOUQUET  AMD-7000-473.jpg\n",
       "155  AMD-7000-474   HONEYDEW  AMD-7000-474.jpg\n",
       "\n",
       "[156 rows x 3 columns]"
      ]
     },
     "execution_count": 88,
     "metadata": {},
     "output_type": "execute_result"
    }
   ],
   "source": [
    "def extract_data(fabric):\n",
    "    return [\n",
    "        fabric.find(\"img\")[\"name\"],\n",
    "        \" \".join(fabric.find_all(\"div\")[-1].text.strip().split()[3:]),\n",
    "        fabric.find(\"img\")[\"src\"].split(\"/\")[-1],\n",
    "    ]\n",
    "\n",
    "\n",
    "# Extract relevant data\n",
    "df = pd.DataFrame(\n",
    "    list(map(extract_data, fabrics)), columns=[\"id\", \"name\", \"src\"]\n",
    ")\n",
    "df"
   ]
  },
  {
   "cell_type": "code",
   "execution_count": 89,
   "metadata": {},
   "outputs": [],
   "source": [
    "def download_image(src):\n",
    "    data = requests.get(BASE_URL + imagePath + \"/\" + src).content\n",
    "    with open(\"../web/images/\" + FABRIC_LINE + \"/\" + src, \"wb\") as handler:\n",
    "        handler.write(data)\n",
    "\n",
    "\n",
    "# Download all the images\n",
    "for src in df[\"src\"]:\n",
    "    download_image(src)"
   ]
  },
  {
   "cell_type": "code",
   "execution_count": 90,
   "metadata": {},
   "outputs": [],
   "source": [
    "# Write data to csv\n",
    "df.to_csv(\"../web/data/\" + FABRIC_LINE + \".csv\", index=False)"
   ]
  },
  {
   "cell_type": "code",
   "execution_count": null,
   "metadata": {},
   "outputs": [],
   "source": []
  }
 ],
 "metadata": {
  "kernelspec": {
   "display_name": "Python 3",
   "language": "python",
   "name": "python3"
  },
  "language_info": {
   "codemirror_mode": {
    "name": "ipython",
    "version": 3
   },
   "file_extension": ".py",
   "mimetype": "text/x-python",
   "name": "python",
   "nbconvert_exporter": "python",
   "pygments_lexer": "ipython3",
   "version": "3.8.2"
  }
 },
 "nbformat": 4,
 "nbformat_minor": 4
}
